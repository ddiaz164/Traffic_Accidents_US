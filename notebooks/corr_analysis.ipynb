{
 "cells": [
  {
   "cell_type": "code",
   "execution_count": 84,
   "metadata": {},
   "outputs": [],
   "source": [
    "import numpy as np\n",
    "import pandas as pd\n",
    "import matplotlib.pyplot as plt\n",
    "import boto3\n",
    "import scipy.stats as stats\n",
    "plt.style.use('seaborn-darkgrid')"
   ]
  },
  {
   "cell_type": "code",
   "execution_count": 2,
   "metadata": {},
   "outputs": [
    {
     "name": "stderr",
     "output_type": "stream",
     "text": [
      "/home/david/anaconda3/lib/python3.7/site-packages/IPython/core/interactiveshell.py:3058: DtypeWarning: Columns (32,33,34,35,36,37,38,39,40,41,42,43,44) have mixed types. Specify dtype option on import or set low_memory=False.\n",
      "  interactivity=interactivity, compiler=compiler, result=result)\n"
     ]
    }
   ],
   "source": [
    "s3 = boto3.client('s3')\n",
    "obj = s3.get_object(Bucket='capstone1largedata', Key='US_Accidents_Dec19.csv')\n",
    "data = pd.read_csv(obj['Body'])"
   ]
  },
  {
   "cell_type": "code",
   "execution_count": 3,
   "metadata": {},
   "outputs": [
    {
     "data": {
      "text/html": [
       "<div>\n",
       "<style scoped>\n",
       "    .dataframe tbody tr th:only-of-type {\n",
       "        vertical-align: middle;\n",
       "    }\n",
       "\n",
       "    .dataframe tbody tr th {\n",
       "        vertical-align: top;\n",
       "    }\n",
       "\n",
       "    .dataframe thead th {\n",
       "        text-align: right;\n",
       "    }\n",
       "</style>\n",
       "<table border=\"1\" class=\"dataframe\">\n",
       "  <thead>\n",
       "    <tr style=\"text-align: right;\">\n",
       "      <th></th>\n",
       "      <th>ID</th>\n",
       "      <th>Source</th>\n",
       "      <th>TMC</th>\n",
       "      <th>Severity</th>\n",
       "      <th>Start_Time</th>\n",
       "      <th>End_Time</th>\n",
       "      <th>Start_Lat</th>\n",
       "      <th>Start_Lng</th>\n",
       "      <th>End_Lat</th>\n",
       "      <th>End_Lng</th>\n",
       "      <th>...</th>\n",
       "      <th>Roundabout</th>\n",
       "      <th>Station</th>\n",
       "      <th>Stop</th>\n",
       "      <th>Traffic_Calming</th>\n",
       "      <th>Traffic_Signal</th>\n",
       "      <th>Turning_Loop</th>\n",
       "      <th>Sunrise_Sunset</th>\n",
       "      <th>Civil_Twilight</th>\n",
       "      <th>Nautical_Twilight</th>\n",
       "      <th>Astronomical_Twilight</th>\n",
       "    </tr>\n",
       "  </thead>\n",
       "  <tbody>\n",
       "    <tr>\n",
       "      <td>0</td>\n",
       "      <td>A-1</td>\n",
       "      <td>MapQuest</td>\n",
       "      <td>201.0</td>\n",
       "      <td>3</td>\n",
       "      <td>2016-02-08 05:46:00</td>\n",
       "      <td>2016-02-08 11:00:00</td>\n",
       "      <td>39.865147</td>\n",
       "      <td>-84.058723</td>\n",
       "      <td>NaN</td>\n",
       "      <td>NaN</td>\n",
       "      <td>...</td>\n",
       "      <td>False</td>\n",
       "      <td>False</td>\n",
       "      <td>False</td>\n",
       "      <td>False</td>\n",
       "      <td>False</td>\n",
       "      <td>False</td>\n",
       "      <td>Night</td>\n",
       "      <td>Night</td>\n",
       "      <td>Night</td>\n",
       "      <td>Night</td>\n",
       "    </tr>\n",
       "    <tr>\n",
       "      <td>1</td>\n",
       "      <td>A-2</td>\n",
       "      <td>MapQuest</td>\n",
       "      <td>201.0</td>\n",
       "      <td>2</td>\n",
       "      <td>2016-02-08 06:07:59</td>\n",
       "      <td>2016-02-08 06:37:59</td>\n",
       "      <td>39.928059</td>\n",
       "      <td>-82.831184</td>\n",
       "      <td>NaN</td>\n",
       "      <td>NaN</td>\n",
       "      <td>...</td>\n",
       "      <td>False</td>\n",
       "      <td>False</td>\n",
       "      <td>False</td>\n",
       "      <td>False</td>\n",
       "      <td>False</td>\n",
       "      <td>False</td>\n",
       "      <td>Night</td>\n",
       "      <td>Night</td>\n",
       "      <td>Night</td>\n",
       "      <td>Day</td>\n",
       "    </tr>\n",
       "    <tr>\n",
       "      <td>2</td>\n",
       "      <td>A-3</td>\n",
       "      <td>MapQuest</td>\n",
       "      <td>201.0</td>\n",
       "      <td>2</td>\n",
       "      <td>2016-02-08 06:49:27</td>\n",
       "      <td>2016-02-08 07:19:27</td>\n",
       "      <td>39.063148</td>\n",
       "      <td>-84.032608</td>\n",
       "      <td>NaN</td>\n",
       "      <td>NaN</td>\n",
       "      <td>...</td>\n",
       "      <td>False</td>\n",
       "      <td>False</td>\n",
       "      <td>False</td>\n",
       "      <td>False</td>\n",
       "      <td>True</td>\n",
       "      <td>False</td>\n",
       "      <td>Night</td>\n",
       "      <td>Night</td>\n",
       "      <td>Day</td>\n",
       "      <td>Day</td>\n",
       "    </tr>\n",
       "    <tr>\n",
       "      <td>3</td>\n",
       "      <td>A-4</td>\n",
       "      <td>MapQuest</td>\n",
       "      <td>201.0</td>\n",
       "      <td>3</td>\n",
       "      <td>2016-02-08 07:23:34</td>\n",
       "      <td>2016-02-08 07:53:34</td>\n",
       "      <td>39.747753</td>\n",
       "      <td>-84.205582</td>\n",
       "      <td>NaN</td>\n",
       "      <td>NaN</td>\n",
       "      <td>...</td>\n",
       "      <td>False</td>\n",
       "      <td>False</td>\n",
       "      <td>False</td>\n",
       "      <td>False</td>\n",
       "      <td>False</td>\n",
       "      <td>False</td>\n",
       "      <td>Night</td>\n",
       "      <td>Day</td>\n",
       "      <td>Day</td>\n",
       "      <td>Day</td>\n",
       "    </tr>\n",
       "    <tr>\n",
       "      <td>4</td>\n",
       "      <td>A-5</td>\n",
       "      <td>MapQuest</td>\n",
       "      <td>201.0</td>\n",
       "      <td>2</td>\n",
       "      <td>2016-02-08 07:39:07</td>\n",
       "      <td>2016-02-08 08:09:07</td>\n",
       "      <td>39.627781</td>\n",
       "      <td>-84.188354</td>\n",
       "      <td>NaN</td>\n",
       "      <td>NaN</td>\n",
       "      <td>...</td>\n",
       "      <td>False</td>\n",
       "      <td>False</td>\n",
       "      <td>False</td>\n",
       "      <td>False</td>\n",
       "      <td>True</td>\n",
       "      <td>False</td>\n",
       "      <td>Day</td>\n",
       "      <td>Day</td>\n",
       "      <td>Day</td>\n",
       "      <td>Day</td>\n",
       "    </tr>\n",
       "  </tbody>\n",
       "</table>\n",
       "<p>5 rows × 49 columns</p>\n",
       "</div>"
      ],
      "text/plain": [
       "    ID    Source    TMC  Severity           Start_Time             End_Time  \\\n",
       "0  A-1  MapQuest  201.0         3  2016-02-08 05:46:00  2016-02-08 11:00:00   \n",
       "1  A-2  MapQuest  201.0         2  2016-02-08 06:07:59  2016-02-08 06:37:59   \n",
       "2  A-3  MapQuest  201.0         2  2016-02-08 06:49:27  2016-02-08 07:19:27   \n",
       "3  A-4  MapQuest  201.0         3  2016-02-08 07:23:34  2016-02-08 07:53:34   \n",
       "4  A-5  MapQuest  201.0         2  2016-02-08 07:39:07  2016-02-08 08:09:07   \n",
       "\n",
       "   Start_Lat  Start_Lng  End_Lat  End_Lng  ...  Roundabout Station   Stop  \\\n",
       "0  39.865147 -84.058723      NaN      NaN  ...       False   False  False   \n",
       "1  39.928059 -82.831184      NaN      NaN  ...       False   False  False   \n",
       "2  39.063148 -84.032608      NaN      NaN  ...       False   False  False   \n",
       "3  39.747753 -84.205582      NaN      NaN  ...       False   False  False   \n",
       "4  39.627781 -84.188354      NaN      NaN  ...       False   False  False   \n",
       "\n",
       "  Traffic_Calming Traffic_Signal Turning_Loop Sunrise_Sunset Civil_Twilight  \\\n",
       "0           False          False        False          Night          Night   \n",
       "1           False          False        False          Night          Night   \n",
       "2           False           True        False          Night          Night   \n",
       "3           False          False        False          Night            Day   \n",
       "4           False           True        False            Day            Day   \n",
       "\n",
       "  Nautical_Twilight Astronomical_Twilight  \n",
       "0             Night                 Night  \n",
       "1             Night                   Day  \n",
       "2               Day                   Day  \n",
       "3               Day                   Day  \n",
       "4               Day                   Day  \n",
       "\n",
       "[5 rows x 49 columns]"
      ]
     },
     "execution_count": 3,
     "metadata": {},
     "output_type": "execute_result"
    }
   ],
   "source": [
    "data.head()"
   ]
  },
  {
   "cell_type": "code",
   "execution_count": 4,
   "metadata": {},
   "outputs": [
    {
     "data": {
      "text/plain": [
       "Index(['ID', 'Source', 'TMC', 'Severity', 'Start_Time', 'End_Time',\n",
       "       'Start_Lat', 'Start_Lng', 'End_Lat', 'End_Lng', 'Distance(mi)',\n",
       "       'Description', 'Number', 'Street', 'Side', 'City', 'County', 'State',\n",
       "       'Zipcode', 'Country', 'Timezone', 'Airport_Code', 'Weather_Timestamp',\n",
       "       'Temperature(F)', 'Wind_Chill(F)', 'Humidity(%)', 'Pressure(in)',\n",
       "       'Visibility(mi)', 'Wind_Direction', 'Wind_Speed(mph)',\n",
       "       'Precipitation(in)', 'Weather_Condition', 'Amenity', 'Bump', 'Crossing',\n",
       "       'Give_Way', 'Junction', 'No_Exit', 'Railway', 'Roundabout', 'Station',\n",
       "       'Stop', 'Traffic_Calming', 'Traffic_Signal', 'Turning_Loop',\n",
       "       'Sunrise_Sunset', 'Civil_Twilight', 'Nautical_Twilight',\n",
       "       'Astronomical_Twilight'],\n",
       "      dtype='object')"
      ]
     },
     "execution_count": 4,
     "metadata": {},
     "output_type": "execute_result"
    }
   ],
   "source": [
    "data.columns"
   ]
  },
  {
   "cell_type": "code",
   "execution_count": 5,
   "metadata": {},
   "outputs": [],
   "source": [
    "data['Weather_Condition'].fillna('', inplace=True)"
   ]
  },
  {
   "cell_type": "code",
   "execution_count": 6,
   "metadata": {},
   "outputs": [],
   "source": [
    "corr_df = data[['ID', 'Severity', 'City', 'State', 'Temperature(F)', 'Wind_Chill(F)', 'Humidity(%)', 'Pressure(in)', 'Visibility(mi)', 'Wind_Speed(mph)', 'Precipitation(in)', 'Weather_Condition', 'Bump', 'Crossing', 'Give_Way', 'Junction', 'No_Exit', 'Railway', 'Roundabout', 'Stop', 'Traffic_Calming', 'Traffic_Signal', 'Sunrise_Sunset']].copy()"
   ]
  },
  {
   "cell_type": "code",
   "execution_count": 7,
   "metadata": {},
   "outputs": [],
   "source": [
    "night_dct = {'Night':True, 'Day':False}"
   ]
  },
  {
   "cell_type": "code",
   "execution_count": 8,
   "metadata": {},
   "outputs": [],
   "source": [
    "corr_df['Night'] = corr_df['Sunrise_Sunset'].map(night_dct)"
   ]
  },
  {
   "cell_type": "code",
   "execution_count": 9,
   "metadata": {},
   "outputs": [],
   "source": [
    "corr_df.drop(columns='Sunrise_Sunset', inplace=True)"
   ]
  },
  {
   "cell_type": "code",
   "execution_count": 10,
   "metadata": {},
   "outputs": [],
   "source": [
    "corr_df['Traffic_Calming'].fillna(False, inplace=True)\n",
    "corr_df['Traffic_Signal'].fillna(False, inplace=True)\n",
    "corr_df['Roundabout'].fillna(False, inplace=True)\n",
    "corr_df['Railway'].fillna(False, inplace=True)\n",
    "corr_df['No_Exit'].fillna(False, inplace=True)\n",
    "corr_df['Junction'].fillna(False, inplace=True)\n",
    "corr_df['Give_Way'].fillna(False, inplace=True)\n",
    "corr_df['Crossing'].fillna(False, inplace=True)\n",
    "corr_df['Bump'].fillna(False, inplace=True)\n",
    "corr_df['Stop'].fillna(False, inplace=True)\n",
    "corr_df['Night'].fillna(False, inplace=True)"
   ]
  },
  {
   "cell_type": "code",
   "execution_count": 11,
   "metadata": {
    "scrolled": true
   },
   "outputs": [
    {
     "data": {
      "text/html": [
       "<div>\n",
       "<style scoped>\n",
       "    .dataframe tbody tr th:only-of-type {\n",
       "        vertical-align: middle;\n",
       "    }\n",
       "\n",
       "    .dataframe tbody tr th {\n",
       "        vertical-align: top;\n",
       "    }\n",
       "\n",
       "    .dataframe thead th {\n",
       "        text-align: right;\n",
       "    }\n",
       "</style>\n",
       "<table border=\"1\" class=\"dataframe\">\n",
       "  <thead>\n",
       "    <tr style=\"text-align: right;\">\n",
       "      <th></th>\n",
       "      <th>Severity</th>\n",
       "      <th>Temperature(F)</th>\n",
       "      <th>Wind_Chill(F)</th>\n",
       "      <th>Humidity(%)</th>\n",
       "      <th>Pressure(in)</th>\n",
       "      <th>Visibility(mi)</th>\n",
       "      <th>Wind_Speed(mph)</th>\n",
       "      <th>Precipitation(in)</th>\n",
       "      <th>Bump</th>\n",
       "      <th>Crossing</th>\n",
       "      <th>Give_Way</th>\n",
       "      <th>Junction</th>\n",
       "      <th>No_Exit</th>\n",
       "      <th>Railway</th>\n",
       "      <th>Roundabout</th>\n",
       "      <th>Stop</th>\n",
       "      <th>Traffic_Calming</th>\n",
       "      <th>Traffic_Signal</th>\n",
       "      <th>Night</th>\n",
       "    </tr>\n",
       "  </thead>\n",
       "  <tbody>\n",
       "    <tr>\n",
       "      <td>Severity</td>\n",
       "      <td>1.000000</td>\n",
       "      <td>-0.015752</td>\n",
       "      <td>-0.059511</td>\n",
       "      <td>-0.003436</td>\n",
       "      <td>0.012262</td>\n",
       "      <td>-0.013923</td>\n",
       "      <td>0.028444</td>\n",
       "      <td>0.021533</td>\n",
       "      <td>-0.006279</td>\n",
       "      <td>-0.174763</td>\n",
       "      <td>-0.015507</td>\n",
       "      <td>0.125819</td>\n",
       "      <td>-0.011141</td>\n",
       "      <td>-0.031160</td>\n",
       "      <td>-0.005876</td>\n",
       "      <td>-0.080949</td>\n",
       "      <td>-0.010094</td>\n",
       "      <td>-0.266481</td>\n",
       "      <td>0.043515</td>\n",
       "    </tr>\n",
       "    <tr>\n",
       "      <td>Temperature(F)</td>\n",
       "      <td>-0.015752</td>\n",
       "      <td>1.000000</td>\n",
       "      <td>0.995083</td>\n",
       "      <td>-0.305244</td>\n",
       "      <td>-0.110716</td>\n",
       "      <td>0.168169</td>\n",
       "      <td>-0.035649</td>\n",
       "      <td>-0.016585</td>\n",
       "      <td>-0.000023</td>\n",
       "      <td>0.023073</td>\n",
       "      <td>-0.001685</td>\n",
       "      <td>-0.017278</td>\n",
       "      <td>0.001913</td>\n",
       "      <td>0.006069</td>\n",
       "      <td>-0.001674</td>\n",
       "      <td>0.000005</td>\n",
       "      <td>-0.001853</td>\n",
       "      <td>0.048939</td>\n",
       "      <td>-0.260259</td>\n",
       "    </tr>\n",
       "    <tr>\n",
       "      <td>Wind_Chill(F)</td>\n",
       "      <td>-0.059511</td>\n",
       "      <td>0.995083</td>\n",
       "      <td>1.000000</td>\n",
       "      <td>-0.260084</td>\n",
       "      <td>-0.273309</td>\n",
       "      <td>0.181388</td>\n",
       "      <td>-0.194123</td>\n",
       "      <td>-0.035639</td>\n",
       "      <td>0.002875</td>\n",
       "      <td>0.030836</td>\n",
       "      <td>0.001034</td>\n",
       "      <td>-0.019287</td>\n",
       "      <td>0.005023</td>\n",
       "      <td>0.014448</td>\n",
       "      <td>-0.001786</td>\n",
       "      <td>0.008726</td>\n",
       "      <td>0.001998</td>\n",
       "      <td>0.045088</td>\n",
       "      <td>-0.238600</td>\n",
       "    </tr>\n",
       "    <tr>\n",
       "      <td>Humidity(%)</td>\n",
       "      <td>-0.003436</td>\n",
       "      <td>-0.305244</td>\n",
       "      <td>-0.260084</td>\n",
       "      <td>1.000000</td>\n",
       "      <td>0.075943</td>\n",
       "      <td>-0.386459</td>\n",
       "      <td>-0.140454</td>\n",
       "      <td>0.061965</td>\n",
       "      <td>-0.002707</td>\n",
       "      <td>-0.039119</td>\n",
       "      <td>0.002997</td>\n",
       "      <td>-0.001285</td>\n",
       "      <td>-0.010259</td>\n",
       "      <td>-0.002644</td>\n",
       "      <td>0.001806</td>\n",
       "      <td>-0.015517</td>\n",
       "      <td>-0.000366</td>\n",
       "      <td>-0.027001</td>\n",
       "      <td>0.218477</td>\n",
       "    </tr>\n",
       "    <tr>\n",
       "      <td>Pressure(in)</td>\n",
       "      <td>0.012262</td>\n",
       "      <td>-0.110716</td>\n",
       "      <td>-0.273309</td>\n",
       "      <td>0.075943</td>\n",
       "      <td>1.000000</td>\n",
       "      <td>-0.020026</td>\n",
       "      <td>0.014046</td>\n",
       "      <td>0.039996</td>\n",
       "      <td>-0.008159</td>\n",
       "      <td>-0.029069</td>\n",
       "      <td>-0.000185</td>\n",
       "      <td>0.022101</td>\n",
       "      <td>-0.011173</td>\n",
       "      <td>0.007992</td>\n",
       "      <td>0.001771</td>\n",
       "      <td>-0.013553</td>\n",
       "      <td>-0.002549</td>\n",
       "      <td>-0.013195</td>\n",
       "      <td>0.028553</td>\n",
       "    </tr>\n",
       "    <tr>\n",
       "      <td>Visibility(mi)</td>\n",
       "      <td>-0.013923</td>\n",
       "      <td>0.168169</td>\n",
       "      <td>0.181388</td>\n",
       "      <td>-0.386459</td>\n",
       "      <td>-0.020026</td>\n",
       "      <td>1.000000</td>\n",
       "      <td>0.007228</td>\n",
       "      <td>-0.088249</td>\n",
       "      <td>0.005182</td>\n",
       "      <td>0.035675</td>\n",
       "      <td>0.003741</td>\n",
       "      <td>-0.003537</td>\n",
       "      <td>0.013299</td>\n",
       "      <td>0.003244</td>\n",
       "      <td>-0.000116</td>\n",
       "      <td>0.006711</td>\n",
       "      <td>0.003534</td>\n",
       "      <td>0.028486</td>\n",
       "      <td>-0.031671</td>\n",
       "    </tr>\n",
       "    <tr>\n",
       "      <td>Wind_Speed(mph)</td>\n",
       "      <td>0.028444</td>\n",
       "      <td>-0.035649</td>\n",
       "      <td>-0.194123</td>\n",
       "      <td>-0.140454</td>\n",
       "      <td>0.014046</td>\n",
       "      <td>0.007228</td>\n",
       "      <td>1.000000</td>\n",
       "      <td>0.026229</td>\n",
       "      <td>0.000676</td>\n",
       "      <td>0.007511</td>\n",
       "      <td>-0.001840</td>\n",
       "      <td>0.003154</td>\n",
       "      <td>0.000162</td>\n",
       "      <td>-0.005183</td>\n",
       "      <td>-0.000960</td>\n",
       "      <td>0.006609</td>\n",
       "      <td>-0.002532</td>\n",
       "      <td>0.013570</td>\n",
       "      <td>-0.106837</td>\n",
       "    </tr>\n",
       "    <tr>\n",
       "      <td>Precipitation(in)</td>\n",
       "      <td>0.021533</td>\n",
       "      <td>-0.016585</td>\n",
       "      <td>-0.035639</td>\n",
       "      <td>0.061965</td>\n",
       "      <td>0.039996</td>\n",
       "      <td>-0.088249</td>\n",
       "      <td>0.026229</td>\n",
       "      <td>1.000000</td>\n",
       "      <td>-0.000927</td>\n",
       "      <td>0.000682</td>\n",
       "      <td>-0.001679</td>\n",
       "      <td>0.005773</td>\n",
       "      <td>-0.001594</td>\n",
       "      <td>0.002123</td>\n",
       "      <td>-0.000198</td>\n",
       "      <td>-0.001087</td>\n",
       "      <td>-0.001120</td>\n",
       "      <td>0.005732</td>\n",
       "      <td>0.004196</td>\n",
       "    </tr>\n",
       "    <tr>\n",
       "      <td>Bump</td>\n",
       "      <td>-0.006279</td>\n",
       "      <td>-0.000023</td>\n",
       "      <td>0.002875</td>\n",
       "      <td>-0.002707</td>\n",
       "      <td>-0.008159</td>\n",
       "      <td>0.005182</td>\n",
       "      <td>0.000676</td>\n",
       "      <td>-0.000927</td>\n",
       "      <td>1.000000</td>\n",
       "      <td>0.010106</td>\n",
       "      <td>-0.000712</td>\n",
       "      <td>-0.002899</td>\n",
       "      <td>0.026832</td>\n",
       "      <td>-0.000901</td>\n",
       "      <td>-0.000112</td>\n",
       "      <td>0.017446</td>\n",
       "      <td>0.642716</td>\n",
       "      <td>-0.004551</td>\n",
       "      <td>-0.000463</td>\n",
       "    </tr>\n",
       "    <tr>\n",
       "      <td>Crossing</td>\n",
       "      <td>-0.174763</td>\n",
       "      <td>0.023073</td>\n",
       "      <td>0.030836</td>\n",
       "      <td>-0.039119</td>\n",
       "      <td>-0.029069</td>\n",
       "      <td>0.035675</td>\n",
       "      <td>0.007511</td>\n",
       "      <td>0.000682</td>\n",
       "      <td>0.010106</td>\n",
       "      <td>1.000000</td>\n",
       "      <td>0.071055</td>\n",
       "      <td>-0.064090</td>\n",
       "      <td>0.057268</td>\n",
       "      <td>0.239872</td>\n",
       "      <td>-0.001102</td>\n",
       "      <td>0.074959</td>\n",
       "      <td>0.023034</td>\n",
       "      <td>0.425901</td>\n",
       "      <td>-0.027697</td>\n",
       "    </tr>\n",
       "    <tr>\n",
       "      <td>Give_Way</td>\n",
       "      <td>-0.015507</td>\n",
       "      <td>-0.001685</td>\n",
       "      <td>0.001034</td>\n",
       "      <td>0.002997</td>\n",
       "      <td>-0.000185</td>\n",
       "      <td>0.003741</td>\n",
       "      <td>-0.001840</td>\n",
       "      <td>-0.001679</td>\n",
       "      <td>-0.000712</td>\n",
       "      <td>0.071055</td>\n",
       "      <td>1.000000</td>\n",
       "      <td>-0.009810</td>\n",
       "      <td>0.012887</td>\n",
       "      <td>-0.000470</td>\n",
       "      <td>-0.000454</td>\n",
       "      <td>0.037308</td>\n",
       "      <td>0.004818</td>\n",
       "      <td>0.048292</td>\n",
       "      <td>-0.003328</td>\n",
       "    </tr>\n",
       "    <tr>\n",
       "      <td>Junction</td>\n",
       "      <td>0.125819</td>\n",
       "      <td>-0.017278</td>\n",
       "      <td>-0.019287</td>\n",
       "      <td>-0.001285</td>\n",
       "      <td>0.022101</td>\n",
       "      <td>-0.003537</td>\n",
       "      <td>0.003154</td>\n",
       "      <td>0.005773</td>\n",
       "      <td>-0.002899</td>\n",
       "      <td>-0.064090</td>\n",
       "      <td>-0.009810</td>\n",
       "      <td>1.000000</td>\n",
       "      <td>-0.004331</td>\n",
       "      <td>-0.014608</td>\n",
       "      <td>0.029315</td>\n",
       "      <td>-0.022583</td>\n",
       "      <td>-0.003934</td>\n",
       "      <td>-0.101479</td>\n",
       "      <td>0.018371</td>\n",
       "    </tr>\n",
       "    <tr>\n",
       "      <td>No_Exit</td>\n",
       "      <td>-0.011141</td>\n",
       "      <td>0.001913</td>\n",
       "      <td>0.005023</td>\n",
       "      <td>-0.010259</td>\n",
       "      <td>-0.011173</td>\n",
       "      <td>0.013299</td>\n",
       "      <td>0.000162</td>\n",
       "      <td>-0.001594</td>\n",
       "      <td>0.026832</td>\n",
       "      <td>0.057268</td>\n",
       "      <td>0.012887</td>\n",
       "      <td>-0.004331</td>\n",
       "      <td>1.000000</td>\n",
       "      <td>0.002712</td>\n",
       "      <td>-0.000295</td>\n",
       "      <td>0.015887</td>\n",
       "      <td>0.018777</td>\n",
       "      <td>0.022631</td>\n",
       "      <td>-0.003480</td>\n",
       "    </tr>\n",
       "    <tr>\n",
       "      <td>Railway</td>\n",
       "      <td>-0.031160</td>\n",
       "      <td>0.006069</td>\n",
       "      <td>0.014448</td>\n",
       "      <td>-0.002644</td>\n",
       "      <td>0.007992</td>\n",
       "      <td>0.003244</td>\n",
       "      <td>-0.005183</td>\n",
       "      <td>0.002123</td>\n",
       "      <td>-0.000901</td>\n",
       "      <td>0.239872</td>\n",
       "      <td>-0.000470</td>\n",
       "      <td>-0.014608</td>\n",
       "      <td>0.002712</td>\n",
       "      <td>1.000000</td>\n",
       "      <td>-0.000811</td>\n",
       "      <td>0.005734</td>\n",
       "      <td>-0.001502</td>\n",
       "      <td>0.053827</td>\n",
       "      <td>0.000952</td>\n",
       "    </tr>\n",
       "    <tr>\n",
       "      <td>Roundabout</td>\n",
       "      <td>-0.005876</td>\n",
       "      <td>-0.001674</td>\n",
       "      <td>-0.001786</td>\n",
       "      <td>0.001806</td>\n",
       "      <td>0.001771</td>\n",
       "      <td>-0.000116</td>\n",
       "      <td>-0.000960</td>\n",
       "      <td>-0.000198</td>\n",
       "      <td>-0.000112</td>\n",
       "      <td>-0.001102</td>\n",
       "      <td>-0.000454</td>\n",
       "      <td>0.029315</td>\n",
       "      <td>-0.000295</td>\n",
       "      <td>-0.000811</td>\n",
       "      <td>1.000000</td>\n",
       "      <td>0.004304</td>\n",
       "      <td>0.005187</td>\n",
       "      <td>-0.004062</td>\n",
       "      <td>0.001344</td>\n",
       "    </tr>\n",
       "    <tr>\n",
       "      <td>Stop</td>\n",
       "      <td>-0.080949</td>\n",
       "      <td>0.000005</td>\n",
       "      <td>0.008726</td>\n",
       "      <td>-0.015517</td>\n",
       "      <td>-0.013553</td>\n",
       "      <td>0.006711</td>\n",
       "      <td>0.006609</td>\n",
       "      <td>-0.001087</td>\n",
       "      <td>0.017446</td>\n",
       "      <td>0.074959</td>\n",
       "      <td>0.037308</td>\n",
       "      <td>-0.022583</td>\n",
       "      <td>0.015887</td>\n",
       "      <td>0.005734</td>\n",
       "      <td>0.004304</td>\n",
       "      <td>1.000000</td>\n",
       "      <td>0.021249</td>\n",
       "      <td>-0.047825</td>\n",
       "      <td>-0.004716</td>\n",
       "    </tr>\n",
       "    <tr>\n",
       "      <td>Traffic_Calming</td>\n",
       "      <td>-0.010094</td>\n",
       "      <td>-0.001853</td>\n",
       "      <td>0.001998</td>\n",
       "      <td>-0.000366</td>\n",
       "      <td>-0.002549</td>\n",
       "      <td>0.003534</td>\n",
       "      <td>-0.002532</td>\n",
       "      <td>-0.001120</td>\n",
       "      <td>0.642716</td>\n",
       "      <td>0.023034</td>\n",
       "      <td>0.004818</td>\n",
       "      <td>-0.003934</td>\n",
       "      <td>0.018777</td>\n",
       "      <td>-0.001502</td>\n",
       "      <td>0.005187</td>\n",
       "      <td>0.021249</td>\n",
       "      <td>1.000000</td>\n",
       "      <td>0.000787</td>\n",
       "      <td>-0.000163</td>\n",
       "    </tr>\n",
       "    <tr>\n",
       "      <td>Traffic_Signal</td>\n",
       "      <td>-0.266481</td>\n",
       "      <td>0.048939</td>\n",
       "      <td>0.045088</td>\n",
       "      <td>-0.027001</td>\n",
       "      <td>-0.013195</td>\n",
       "      <td>0.028486</td>\n",
       "      <td>0.013570</td>\n",
       "      <td>0.005732</td>\n",
       "      <td>-0.004551</td>\n",
       "      <td>0.425901</td>\n",
       "      <td>0.048292</td>\n",
       "      <td>-0.101479</td>\n",
       "      <td>0.022631</td>\n",
       "      <td>0.053827</td>\n",
       "      <td>-0.004062</td>\n",
       "      <td>-0.047825</td>\n",
       "      <td>0.000787</td>\n",
       "      <td>1.000000</td>\n",
       "      <td>-0.038736</td>\n",
       "    </tr>\n",
       "    <tr>\n",
       "      <td>Night</td>\n",
       "      <td>0.043515</td>\n",
       "      <td>-0.260259</td>\n",
       "      <td>-0.238600</td>\n",
       "      <td>0.218477</td>\n",
       "      <td>0.028553</td>\n",
       "      <td>-0.031671</td>\n",
       "      <td>-0.106837</td>\n",
       "      <td>0.004196</td>\n",
       "      <td>-0.000463</td>\n",
       "      <td>-0.027697</td>\n",
       "      <td>-0.003328</td>\n",
       "      <td>0.018371</td>\n",
       "      <td>-0.003480</td>\n",
       "      <td>0.000952</td>\n",
       "      <td>0.001344</td>\n",
       "      <td>-0.004716</td>\n",
       "      <td>-0.000163</td>\n",
       "      <td>-0.038736</td>\n",
       "      <td>1.000000</td>\n",
       "    </tr>\n",
       "  </tbody>\n",
       "</table>\n",
       "</div>"
      ],
      "text/plain": [
       "                   Severity  Temperature(F)  Wind_Chill(F)  Humidity(%)  \\\n",
       "Severity           1.000000       -0.015752      -0.059511    -0.003436   \n",
       "Temperature(F)    -0.015752        1.000000       0.995083    -0.305244   \n",
       "Wind_Chill(F)     -0.059511        0.995083       1.000000    -0.260084   \n",
       "Humidity(%)       -0.003436       -0.305244      -0.260084     1.000000   \n",
       "Pressure(in)       0.012262       -0.110716      -0.273309     0.075943   \n",
       "Visibility(mi)    -0.013923        0.168169       0.181388    -0.386459   \n",
       "Wind_Speed(mph)    0.028444       -0.035649      -0.194123    -0.140454   \n",
       "Precipitation(in)  0.021533       -0.016585      -0.035639     0.061965   \n",
       "Bump              -0.006279       -0.000023       0.002875    -0.002707   \n",
       "Crossing          -0.174763        0.023073       0.030836    -0.039119   \n",
       "Give_Way          -0.015507       -0.001685       0.001034     0.002997   \n",
       "Junction           0.125819       -0.017278      -0.019287    -0.001285   \n",
       "No_Exit           -0.011141        0.001913       0.005023    -0.010259   \n",
       "Railway           -0.031160        0.006069       0.014448    -0.002644   \n",
       "Roundabout        -0.005876       -0.001674      -0.001786     0.001806   \n",
       "Stop              -0.080949        0.000005       0.008726    -0.015517   \n",
       "Traffic_Calming   -0.010094       -0.001853       0.001998    -0.000366   \n",
       "Traffic_Signal    -0.266481        0.048939       0.045088    -0.027001   \n",
       "Night              0.043515       -0.260259      -0.238600     0.218477   \n",
       "\n",
       "                   Pressure(in)  Visibility(mi)  Wind_Speed(mph)  \\\n",
       "Severity               0.012262       -0.013923         0.028444   \n",
       "Temperature(F)        -0.110716        0.168169        -0.035649   \n",
       "Wind_Chill(F)         -0.273309        0.181388        -0.194123   \n",
       "Humidity(%)            0.075943       -0.386459        -0.140454   \n",
       "Pressure(in)           1.000000       -0.020026         0.014046   \n",
       "Visibility(mi)        -0.020026        1.000000         0.007228   \n",
       "Wind_Speed(mph)        0.014046        0.007228         1.000000   \n",
       "Precipitation(in)      0.039996       -0.088249         0.026229   \n",
       "Bump                  -0.008159        0.005182         0.000676   \n",
       "Crossing              -0.029069        0.035675         0.007511   \n",
       "Give_Way              -0.000185        0.003741        -0.001840   \n",
       "Junction               0.022101       -0.003537         0.003154   \n",
       "No_Exit               -0.011173        0.013299         0.000162   \n",
       "Railway                0.007992        0.003244        -0.005183   \n",
       "Roundabout             0.001771       -0.000116        -0.000960   \n",
       "Stop                  -0.013553        0.006711         0.006609   \n",
       "Traffic_Calming       -0.002549        0.003534        -0.002532   \n",
       "Traffic_Signal        -0.013195        0.028486         0.013570   \n",
       "Night                  0.028553       -0.031671        -0.106837   \n",
       "\n",
       "                   Precipitation(in)      Bump  Crossing  Give_Way  Junction  \\\n",
       "Severity                    0.021533 -0.006279 -0.174763 -0.015507  0.125819   \n",
       "Temperature(F)             -0.016585 -0.000023  0.023073 -0.001685 -0.017278   \n",
       "Wind_Chill(F)              -0.035639  0.002875  0.030836  0.001034 -0.019287   \n",
       "Humidity(%)                 0.061965 -0.002707 -0.039119  0.002997 -0.001285   \n",
       "Pressure(in)                0.039996 -0.008159 -0.029069 -0.000185  0.022101   \n",
       "Visibility(mi)             -0.088249  0.005182  0.035675  0.003741 -0.003537   \n",
       "Wind_Speed(mph)             0.026229  0.000676  0.007511 -0.001840  0.003154   \n",
       "Precipitation(in)           1.000000 -0.000927  0.000682 -0.001679  0.005773   \n",
       "Bump                       -0.000927  1.000000  0.010106 -0.000712 -0.002899   \n",
       "Crossing                    0.000682  0.010106  1.000000  0.071055 -0.064090   \n",
       "Give_Way                   -0.001679 -0.000712  0.071055  1.000000 -0.009810   \n",
       "Junction                    0.005773 -0.002899 -0.064090 -0.009810  1.000000   \n",
       "No_Exit                    -0.001594  0.026832  0.057268  0.012887 -0.004331   \n",
       "Railway                     0.002123 -0.000901  0.239872 -0.000470 -0.014608   \n",
       "Roundabout                 -0.000198 -0.000112 -0.001102 -0.000454  0.029315   \n",
       "Stop                       -0.001087  0.017446  0.074959  0.037308 -0.022583   \n",
       "Traffic_Calming            -0.001120  0.642716  0.023034  0.004818 -0.003934   \n",
       "Traffic_Signal              0.005732 -0.004551  0.425901  0.048292 -0.101479   \n",
       "Night                       0.004196 -0.000463 -0.027697 -0.003328  0.018371   \n",
       "\n",
       "                    No_Exit   Railway  Roundabout      Stop  Traffic_Calming  \\\n",
       "Severity          -0.011141 -0.031160   -0.005876 -0.080949        -0.010094   \n",
       "Temperature(F)     0.001913  0.006069   -0.001674  0.000005        -0.001853   \n",
       "Wind_Chill(F)      0.005023  0.014448   -0.001786  0.008726         0.001998   \n",
       "Humidity(%)       -0.010259 -0.002644    0.001806 -0.015517        -0.000366   \n",
       "Pressure(in)      -0.011173  0.007992    0.001771 -0.013553        -0.002549   \n",
       "Visibility(mi)     0.013299  0.003244   -0.000116  0.006711         0.003534   \n",
       "Wind_Speed(mph)    0.000162 -0.005183   -0.000960  0.006609        -0.002532   \n",
       "Precipitation(in) -0.001594  0.002123   -0.000198 -0.001087        -0.001120   \n",
       "Bump               0.026832 -0.000901   -0.000112  0.017446         0.642716   \n",
       "Crossing           0.057268  0.239872   -0.001102  0.074959         0.023034   \n",
       "Give_Way           0.012887 -0.000470   -0.000454  0.037308         0.004818   \n",
       "Junction          -0.004331 -0.014608    0.029315 -0.022583        -0.003934   \n",
       "No_Exit            1.000000  0.002712   -0.000295  0.015887         0.018777   \n",
       "Railway            0.002712  1.000000   -0.000811  0.005734        -0.001502   \n",
       "Roundabout        -0.000295 -0.000811    1.000000  0.004304         0.005187   \n",
       "Stop               0.015887  0.005734    0.004304  1.000000         0.021249   \n",
       "Traffic_Calming    0.018777 -0.001502    0.005187  0.021249         1.000000   \n",
       "Traffic_Signal     0.022631  0.053827   -0.004062 -0.047825         0.000787   \n",
       "Night             -0.003480  0.000952    0.001344 -0.004716        -0.000163   \n",
       "\n",
       "                   Traffic_Signal     Night  \n",
       "Severity                -0.266481  0.043515  \n",
       "Temperature(F)           0.048939 -0.260259  \n",
       "Wind_Chill(F)            0.045088 -0.238600  \n",
       "Humidity(%)             -0.027001  0.218477  \n",
       "Pressure(in)            -0.013195  0.028553  \n",
       "Visibility(mi)           0.028486 -0.031671  \n",
       "Wind_Speed(mph)          0.013570 -0.106837  \n",
       "Precipitation(in)        0.005732  0.004196  \n",
       "Bump                    -0.004551 -0.000463  \n",
       "Crossing                 0.425901 -0.027697  \n",
       "Give_Way                 0.048292 -0.003328  \n",
       "Junction                -0.101479  0.018371  \n",
       "No_Exit                  0.022631 -0.003480  \n",
       "Railway                  0.053827  0.000952  \n",
       "Roundabout              -0.004062  0.001344  \n",
       "Stop                    -0.047825 -0.004716  \n",
       "Traffic_Calming          0.000787 -0.000163  \n",
       "Traffic_Signal           1.000000 -0.038736  \n",
       "Night                   -0.038736  1.000000  "
      ]
     },
     "execution_count": 11,
     "metadata": {},
     "output_type": "execute_result"
    }
   ],
   "source": [
    "corr_df.corr()"
   ]
  },
  {
   "cell_type": "code",
   "execution_count": 12,
   "metadata": {},
   "outputs": [
    {
     "data": {
      "text/plain": [
       "array(['Light Rain', 'Overcast', 'Mostly Cloudy', 'Rain', 'Light Snow',\n",
       "       'Haze', 'Scattered Clouds', 'Partly Cloudy', 'Clear', 'Snow',\n",
       "       'Light Freezing Drizzle', 'Light Drizzle', 'Fog', 'Shallow Fog',\n",
       "       'Heavy Rain', 'Light Freezing Rain', 'Cloudy', 'Drizzle', '',\n",
       "       'Light Rain Showers', 'Mist', 'Smoke', 'Patches of Fog',\n",
       "       'Light Freezing Fog', 'Light Haze', 'Light Thunderstorms and Rain',\n",
       "       'Thunderstorms and Rain', 'Fair', 'Volcanic Ash', 'Blowing Sand',\n",
       "       'Blowing Dust / Windy', 'Widespread Dust', 'Fair / Windy',\n",
       "       'Rain Showers', 'Mostly Cloudy / Windy', 'Light Rain / Windy',\n",
       "       'Hail', 'Heavy Drizzle', 'Showers in the Vicinity', 'Thunderstorm',\n",
       "       'Light Rain Shower', 'Light Rain with Thunder',\n",
       "       'Partly Cloudy / Windy', 'Thunder in the Vicinity', 'T-Storm',\n",
       "       'Heavy Thunderstorms and Rain', 'Thunder', 'Heavy T-Storm',\n",
       "       'Funnel Cloud', 'Heavy T-Storm / Windy', 'Blowing Snow',\n",
       "       'Light Thunderstorms and Snow', 'Heavy Snow', 'Low Drifting Snow',\n",
       "       'Light Ice Pellets', 'Ice Pellets', 'Squalls', 'N/A Precipitation',\n",
       "       'Cloudy / Windy', 'Light Fog', 'Sand', 'Snow Grains',\n",
       "       'Snow Showers', 'Heavy Thunderstorms and Snow', 'Rain / Windy',\n",
       "       'Heavy Rain / Windy', 'Heavy Ice Pellets', 'Light Snow / Windy',\n",
       "       'Heavy Freezing Rain', 'Small Hail', 'Heavy Rain Showers',\n",
       "       'Wintry Mix', 'Freezing Rain', 'Snow / Windy', 'Snow and Sleet',\n",
       "       'Sleet', 'Light Drizzle / Windy', 'Light Freezing Rain / Windy',\n",
       "       'Light Sleet', 'Heavy Sleet', 'Wintry Mix / Windy',\n",
       "       'Light Snow Shower', 'Drizzle and Fog', 'T-Storm / Windy',\n",
       "       'Heavy Snow / Windy', 'Fog / Windy', 'Light Snow and Sleet',\n",
       "       'Light Snow Grains', 'Thunder / Windy', 'Haze / Windy',\n",
       "       'Sand / Dust Whirlwinds', 'Blowing Dust',\n",
       "       'Light Rain Shower / Windy', 'Squalls / Windy', 'Drizzle / Windy',\n",
       "       'Partial Fog / Windy', 'Light Snow with Thunder',\n",
       "       'Blowing Snow / Windy', 'Partial Fog', 'Rain Shower',\n",
       "       'Widespread Dust / Windy', 'Sand / Dust Whirlwinds / Windy',\n",
       "       'Tornado', 'Snow and Thunder', 'Light Snow and Sleet / Windy',\n",
       "       'Snow and Sleet / Windy', 'Heavy Snow with Thunder',\n",
       "       'Thunder / Wintry Mix / Windy', 'Light Snow Showers',\n",
       "       'Heavy Blowing Snow', 'Light Hail', 'Heavy Smoke',\n",
       "       'Heavy Thunderstorms with Small Hail', 'Light Thunderstorm',\n",
       "       'Heavy Freezing Drizzle', 'Light Blowing Snow',\n",
       "       'Thunderstorms and Snow', 'Smoke / Windy'], dtype=object)"
      ]
     },
     "execution_count": 12,
     "metadata": {},
     "output_type": "execute_result"
    }
   ],
   "source": [
    "corr_df['Weather_Condition'].unique()"
   ]
  },
  {
   "cell_type": "code",
   "execution_count": 36,
   "metadata": {
    "scrolled": true
   },
   "outputs": [],
   "source": [
    "snow = corr_df[corr_df['Weather_Condition'].str.contains('snow', case=False)].copy()\n",
    "rain = corr_df[corr_df['Weather_Condition'].str.contains('rain', case=False)].copy()\n",
    "fog = corr_df[corr_df['Weather_Condition'].str.contains('fog', case=False)].copy()\n",
    "wind = corr_df[corr_df['Weather_Condition'].str.contains('wind', case=False)].copy()\n",
    "smoke = corr_df[corr_df['Weather_Condition'].str.contains('smoke', case=False)].copy()\n",
    "dust = corr_df[corr_df['Weather_Condition'].str.contains('dust', case=False)].copy()\n",
    "freezing = corr_df[corr_df['Weather_Condition'].str.contains('freezing', case=False)].copy()\n",
    "clear = corr_df[corr_df['Weather_Condition'].str.contains('clear', case=False)].copy()\n",
    "cloud = corr_df[corr_df['Weather_Condition'].str.contains('cloud', case=False)].copy()"
   ]
  },
  {
   "cell_type": "code",
   "execution_count": 37,
   "metadata": {},
   "outputs": [],
   "source": [
    "conditions = [snow, rain, fog, wind, smoke, dust, freezing, clear, cloud]\n",
    "means = [condition['Severity'].values.mean() for condition in conditions]\n",
    "conditions = ['snow', 'rain', 'fog', 'wind', 'smoke', 'dust', 'freezing', 'clear', 'cloud']"
   ]
  },
  {
   "cell_type": "code",
   "execution_count": 113,
   "metadata": {
    "scrolled": true
   },
   "outputs": [
    {
     "data": {
      "image/png": "[encoded data removed]",
      "text/plain": [
       "<Figure size 720x288 with 1 Axes>"
      ]
     },
     "metadata": {},
     "output_type": "display_data"
    }
   ],
   "source": [
    "fig, ax = plt.subplots(figsize=(10,4))\n",
    "ax.bar(conditions, means, color=['lightblue', 'b', 'gray', 'lightgray','k','beige','c','y','w'], alpha=.7)\n",
    "ax.set_ylim(2.1,2.46)\n",
    "ax.axhline(np.mean(data['Severity']), linestyle='--', color='r')\n",
    "ax.set_xlabel('Weather Conditions', size=12)\n",
    "ax.set_ylabel('Average Severity(1-4)')\n",
    "ax.set_title('Accident Severity for Differing Weather Conditions', size=15)\n",
    "plt.savefig('../images/sev_cond.png')\n",
    "plt.tight_layout()"
   ]
  },
  {
   "cell_type": "code",
   "execution_count": 16,
   "metadata": {},
   "outputs": [],
   "source": [
    "data['State'].fillna('unk', inplace=True)"
   ]
  },
  {
   "cell_type": "code",
   "execution_count": 17,
   "metadata": {},
   "outputs": [
    {
     "data": {
      "text/plain": [
       "'unk'"
      ]
     },
     "execution_count": 17,
     "metadata": {},
     "output_type": "execute_result"
    }
   ],
   "source": [
    "state_list = list(data['State'].unique())\n",
    "state_list.pop()"
   ]
  },
  {
   "cell_type": "code",
   "execution_count": 18,
   "metadata": {},
   "outputs": [],
   "source": [
    "fog_counts = [data[data['State']==state][data[data['State']==state]['Weather_Condition'].str.contains('fog', case=False)]['ID'].count() for state in state_list]"
   ]
  },
  {
   "cell_type": "code",
   "execution_count": 19,
   "metadata": {},
   "outputs": [],
   "source": [
    "cars_per_state = {'state': ['California', 'Texas', 'Florida', 'New York', 'Ohio', 'Illinois', 'Pennsylvania', 'Georgia', 'North Carolina', 'Virginia', 'Michigan', 'Washington', 'New Jersey', 'Arizona', 'Tennessee', 'Indiana', 'Massachusetts', 'Alabama', 'Missouri', 'Wisconsin', 'Minnesota', 'Maryland', 'South Carolina', 'Colorado', 'Kentucky', 'Oregon', 'Louisiana', 'Connecticut', 'Oklahoma', 'Iowa', 'Nevada', 'Kansas', 'Utah', 'Arkansas', 'Mississippi', 'Nebraska', 'New Mexico', 'Idaho', 'West Virginia', 'Hawaii', 'New Hampshire', 'Montana', 'Delaware', 'Rhode Island', 'Maine', 'South Dakota', 'North Dakota', 'Vermont', 'District of Columbia', 'Wyoming', 'Alaska'],'cars':[15065827,8248322,7966091,4712779,4603594,4477763,4424183,3557469,3393781,3267735,3023940,2964939,2754253,2391772,2285329,2248870,2182530,2161212,2102216,2087518,1976525,1922463,1830186,1798177,1721942,1488623,1389249,1306709,1296219,1242219,1073760,975171,937421,921161,825338,683020,655766,598774,560118,509492,506959,452845,433363,412255,390506,358859,240048,218302,209723,203546,183270]}\n",
    "state_full = {'AL':'Alabama', 'AR':'Arkansas', 'AZ':'Arizona', 'CA':'California', 'CO':'Colorado', 'CT':'Connecticut', 'DC':'District of Columbia', 'DE':'Delaware','FL':'Florida', 'GA':'Georgia', 'IA':'Iowa', 'ID':'Idaho', 'IL':'Illinois', 'IN':'Indiana', 'KS':'Kansas', 'KY':'Kentucky', 'LA':'Louisiana', 'MA':'Massachusetts', 'MD':'Maryland', 'ME':'Maine', 'MI':'Michigan', 'MN':'Minnesota', 'MO':'Missouri', 'MS':'Mississippi', 'MT':'Montana', 'NC':'North Carolina', 'ND':'North Dakota', 'NE': 'Nebraska', 'NH':'New Hampshire', 'NJ':'New Jersey', 'NM':'New Mexico', 'NV': 'Nevada', 'NY':'New York', 'OH':'Ohio', 'OK':'Oklahoma', 'OR':'Oregon', 'PA':'Pennsylvania', 'RI':'Rhode Island', 'SC': 'South Carolina', 'SD': 'South Dakota', 'TN':'Tennessee', 'TX':'Texas', 'UT': 'Utah', 'VA':'Virginia', 'VT':'Vermont', 'WA':'Washington', 'WI':'Wisconsin', 'WV':'West Virginia', 'WY':'Wyoming'}\n",
    "cars_per_state = pd.DataFrame(cars_per_state)\n",
    "states = {state: abbrev for abbrev, state in state_full.items()}\n",
    "cars_per_state['state'] = cars_per_state['state'].map(states)"
   ]
  },
  {
   "cell_type": "code",
   "execution_count": 20,
   "metadata": {},
   "outputs": [],
   "source": [
    "fog_df = pd.DataFrame({'state': state_list, 'accidents': fog_counts})"
   ]
  },
  {
   "cell_type": "code",
   "execution_count": 21,
   "metadata": {},
   "outputs": [],
   "source": [
    "fog_df = fog_df.set_index('state').join(cars_per_state.set_index('state'))\n",
    "fog_df.reset_index(inplace=True)"
   ]
  },
  {
   "cell_type": "code",
   "execution_count": 22,
   "metadata": {},
   "outputs": [],
   "source": [
    "fog_df['accident_rate'] = fog_df['accidents'] / fog_df['cars']"
   ]
  },
  {
   "cell_type": "code",
   "execution_count": 23,
   "metadata": {},
   "outputs": [
    {
     "data": {
      "text/html": [
       "<div>\n",
       "<style scoped>\n",
       "    .dataframe tbody tr th:only-of-type {\n",
       "        vertical-align: middle;\n",
       "    }\n",
       "\n",
       "    .dataframe tbody tr th {\n",
       "        vertical-align: top;\n",
       "    }\n",
       "\n",
       "    .dataframe thead th {\n",
       "        text-align: right;\n",
       "    }\n",
       "</style>\n",
       "<table border=\"1\" class=\"dataframe\">\n",
       "  <thead>\n",
       "    <tr style=\"text-align: right;\">\n",
       "      <th></th>\n",
       "      <th>state</th>\n",
       "      <th>accidents</th>\n",
       "      <th>cars</th>\n",
       "      <th>accident_rate</th>\n",
       "    </tr>\n",
       "  </thead>\n",
       "  <tbody>\n",
       "    <tr>\n",
       "      <td>0</td>\n",
       "      <td>AL</td>\n",
       "      <td>208</td>\n",
       "      <td>2161212</td>\n",
       "      <td>0.000096</td>\n",
       "    </tr>\n",
       "    <tr>\n",
       "      <td>1</td>\n",
       "      <td>AR</td>\n",
       "      <td>10</td>\n",
       "      <td>921161</td>\n",
       "      <td>0.000011</td>\n",
       "    </tr>\n",
       "    <tr>\n",
       "      <td>2</td>\n",
       "      <td>AZ</td>\n",
       "      <td>17</td>\n",
       "      <td>2391772</td>\n",
       "      <td>0.000007</td>\n",
       "    </tr>\n",
       "    <tr>\n",
       "      <td>3</td>\n",
       "      <td>CA</td>\n",
       "      <td>2689</td>\n",
       "      <td>15065827</td>\n",
       "      <td>0.000178</td>\n",
       "    </tr>\n",
       "    <tr>\n",
       "      <td>4</td>\n",
       "      <td>CO</td>\n",
       "      <td>273</td>\n",
       "      <td>1798177</td>\n",
       "      <td>0.000152</td>\n",
       "    </tr>\n",
       "  </tbody>\n",
       "</table>\n",
       "</div>"
      ],
      "text/plain": [
       "  state  accidents      cars  accident_rate\n",
       "0    AL        208   2161212       0.000096\n",
       "1    AR         10    921161       0.000011\n",
       "2    AZ         17   2391772       0.000007\n",
       "3    CA       2689  15065827       0.000178\n",
       "4    CO        273   1798177       0.000152"
      ]
     },
     "execution_count": 23,
     "metadata": {},
     "output_type": "execute_result"
    }
   ],
   "source": [
    "fog_df.head()"
   ]
  },
  {
   "cell_type": "code",
   "execution_count": 24,
   "metadata": {
    "scrolled": true
   },
   "outputs": [
    {
     "data": {
      "image/png": "[encoded data removed]",
      "text/plain": [
       "<Figure size 1152x432 with 1 Axes>"
      ]
     },
     "metadata": {
      "needs_background": "light"
     },
     "output_type": "display_data"
    }
   ],
   "source": [
    "fig, ax = plt.subplots(figsize=(16,6))\n",
    "ax.bar(fog_df['state'].values, fog_df['accident_rate'].values, color=['red' if (x=='SC') else 'grey' for x in fog_df['state'].values], alpha=.7)\n",
    "ax.set_xlabel('States')\n",
    "ax.set_ylabel('Accident Rate (Accidents per Car)')\n",
    "ax.set_title('Accidents Involving Fog', size=15)\n",
    "plt.savefig('../images/fog_accident_rate.png')\n",
    "plt.tight_layout()"
   ]
  },
  {
   "cell_type": "code",
   "execution_count": 25,
   "metadata": {},
   "outputs": [],
   "source": [
    "Traffic_Calming = corr_df[corr_df['Traffic_Calming']==True]\n",
    "Traffic_Signal = corr_df[corr_df['Traffic_Signal']==True]\n",
    "Roundabout = corr_df[corr_df['Roundabout']==True]\n",
    "Railway = corr_df[corr_df['Railway']==True]\n",
    "No_Exit = corr_df[corr_df['No_Exit']==True]\n",
    "Junction = corr_df[corr_df['Junction']==True]\n",
    "Give_Way = corr_df[corr_df['Give_Way']==True]\n",
    "Crossing = corr_df[corr_df['Crossing']==True]\n",
    "Bump = corr_df[corr_df['Bump']==True]\n",
    "Stop = corr_df[corr_df['Stop']==True]"
   ]
  },
  {
   "cell_type": "code",
   "execution_count": 26,
   "metadata": {},
   "outputs": [],
   "source": [
    "traffic = [Traffic_Calming, Traffic_Signal, Roundabout, Railway, No_Exit, Junction, Give_Way, Crossing, Bump, Stop]\n",
    "t_means = [t['Severity'].values.mean() for t in traffic]\n",
    "traffic = ['Traffic_Calming', 'Traffic_Signal', 'Roundabout', 'Railway', 'No_Exit', 'Junction', 'Give_Way', 'Crossing', 'Bump', 'Stop']"
   ]
  },
  {
   "cell_type": "code",
   "execution_count": 62,
   "metadata": {},
   "outputs": [
    {
     "data": {
      "image/png": "[encoded data removed]",
      "text/plain": [
       "<Figure size 720x288 with 1 Axes>"
      ]
     },
     "metadata": {
      "needs_background": "light"
     },
     "output_type": "display_data"
    }
   ],
   "source": [
    "traffic_counts = [corr_df['ID'][corr_df[t]==True].count() for t in traffic]\n",
    "fig, ax = plt.subplots(figsize=(10,4))\n",
    "ax.bar(traffic, traffic_counts, color='r', alpha=.7)\n",
    "plt.xticks(rotation=30)\n",
    "ax.set_xlabel('Traffic Signals')\n",
    "ax.set_ylabel('Accidents')\n",
    "ax.set_title('Accident Count for Differing Traffic Signal Devices', size=15)\n",
    "plt.savefig('../images/traffic_counts.png')\n",
    "plt.tight_layout()"
   ]
  },
  {
   "cell_type": "code",
   "execution_count": 114,
   "metadata": {},
   "outputs": [
    {
     "data": {
      "image/png": "[encoded data removed]",
      "text/plain": [
       "<Figure size 720x288 with 1 Axes>"
      ]
     },
     "metadata": {},
     "output_type": "display_data"
    }
   ],
   "source": [
    "fig, ax = plt.subplots(figsize=(10,4))\n",
    "ax.bar(traffic, t_means, color='maroon', alpha=.7)\n",
    "ax.set_ylim(2,2.62)\n",
    "plt.xticks(rotation=30)\n",
    "ax.axhline(np.mean(data['Severity']), linestyle='--', color='r')\n",
    "ax.set_xlabel('Traffic Signals')\n",
    "ax.set_ylabel('Average Severity(1-4)')\n",
    "ax.set_title('Accident Severity for Differing Traffic Signal Devices', size=15)\n",
    "plt.savefig('../images/sev_traffic.png')\n",
    "plt.tight_layout()"
   ]
  },
  {
   "cell_type": "code",
   "execution_count": 29,
   "metadata": {},
   "outputs": [],
   "source": [
    "Night = corr_df[corr_df['Night']==True]\n",
    "Day = corr_df[corr_df['Night']==False]"
   ]
  },
  {
   "cell_type": "code",
   "execution_count": 30,
   "metadata": {},
   "outputs": [],
   "source": [
    "times = [Night, Day]\n",
    "times_means = [time['Severity'].values.mean() for time in times]\n",
    "times = ['Night', 'Day']"
   ]
  },
  {
   "cell_type": "code",
   "execution_count": 31,
   "metadata": {},
   "outputs": [
    {
     "data": {
      "image/png": "[encoded data removed]",
      "text/plain": [
       "<Figure size 720x288 with 1 Axes>"
      ]
     },
     "metadata": {
      "needs_background": "light"
     },
     "output_type": "display_data"
    }
   ],
   "source": [
    "fig, ax = plt.subplots(figsize=(10,4))\n",
    "ax.bar(times, times_means, color='r', alpha=.7)\n",
    "ax.set_ylim(2.3,2.4)\n",
    "ax.set_xlabel('Traffic Signals')\n",
    "ax.set_ylabel('Average Severity(1-4)')\n",
    "ax.set_title('Accident Severity for Differing Traffic Signal Devices', size=15)\n",
    "plt.savefig('../images/sev_traffic.png')\n",
    "plt.tight_layout()"
   ]
  },
  {
   "cell_type": "code",
   "execution_count": 98,
   "metadata": {},
   "outputs": [],
   "source": [
    "def ttest_conditions(conditions):\n",
    "    for condition in conditions:\n",
    "        sample = corr_df['Severity'][corr_df['Weather_Condition'].str.contains(condition, case=False)].values\n",
    "        population = data['Severity'].values\n",
    "        t,p = stats.ttest_ind(sample, population)\n",
    "        print(f\"{condition} p-value:{p:.3f} t-value:{t:.3f}\")"
   ]
  },
  {
   "cell_type": "code",
   "execution_count": 99,
   "metadata": {},
   "outputs": [
    {
     "name": "stdout",
     "output_type": "stream",
     "text": [
      "snow p-value:0.000 t-value:38.782\n",
      "rain p-value:0.000 t-value:42.230\n",
      "fog p-value:0.000 t-value:-25.022\n",
      "wind p-value:0.825 t-value:-0.222\n",
      "smoke p-value:0.005 t-value:2.794\n",
      "dust p-value:0.000 t-value:-6.026\n",
      "freezing p-value:0.000 t-value:11.677\n",
      "clear p-value:0.000 t-value:-8.157\n",
      "cloud p-value:0.000 t-value:4.163\n"
     ]
    }
   ],
   "source": [
    "ttest_conditions(conditions)"
   ]
  },
  {
   "cell_type": "code",
   "execution_count": 107,
   "metadata": {},
   "outputs": [],
   "source": [
    "def ttest_traffic(traffic):\n",
    "    for traff in traffic:\n",
    "        sample = corr_df['Severity'][corr_df[traff]==True].values\n",
    "        population = data['Severity'].values\n",
    "        t,p = stats.ttest_ind(sample, population)\n",
    "        print(f\"{traff} p-value:{p:.3f} t-value:{t:.3f}\")"
   ]
  },
  {
   "cell_type": "code",
   "execution_count": 108,
   "metadata": {},
   "outputs": [
    {
     "name": "stdout",
     "output_type": "stream",
     "text": [
      "Traffic_Calming p-value:0.000 t-value:-14.763\n",
      "Traffic_Signal p-value:0.000 t-value:-337.392\n",
      "Roundabout p-value:0.000 t-value:-8.596\n",
      "Railway p-value:0.000 t-value:-45.239\n",
      "No_Exit p-value:0.000 t-value:-16.281\n",
      "Junction p-value:0.000 t-value:174.778\n",
      "Give_Way p-value:0.000 t-value:-22.630\n",
      "Crossing p-value:0.000 t-value:-242.410\n",
      "Bump p-value:0.000 t-value:-9.184\n",
      "Stop p-value:0.000 t-value:-117.353\n"
     ]
    }
   ],
   "source": [
    "ttest_traffic(traffic)"
   ]
  },
  {
   "cell_type": "code",
   "execution_count": 66,
   "metadata": {},
   "outputs": [
    {
     "data": {
      "text/plain": [
       "2.8"
      ]
     },
     "execution_count": 66,
     "metadata": {},
     "output_type": "execute_result"
    }
   ],
   "source": [
    "most_severe = corr_df[(corr_df['Weather_Condition'].str.contains('freezing', case=False)) & (corr_df['Junction']==True) & (corr_df['Night']==True)]\n",
    "np.mean(most_severe['Severity'])"
   ]
  },
  {
   "cell_type": "code",
   "execution_count": 70,
   "metadata": {},
   "outputs": [
    {
     "data": {
      "text/plain": [
       "2.0"
      ]
     },
     "execution_count": 70,
     "metadata": {},
     "output_type": "execute_result"
    }
   ],
   "source": [
    "least_severe = corr_df[(corr_df['Weather_Condition'].str.contains('fog', case=False)) & (corr_df['Roundabout']==True) & (corr_df['Night']==False)]\n",
    "np.mean(least_severe['Severity'])"
   ]
  },
  {
   "cell_type": "code",
   "execution_count": 122,
   "metadata": {},
   "outputs": [
    {
     "name": "stdout",
     "output_type": "stream",
     "text": [
      "snow:105\n",
      "rain:391\n",
      "fog:45\n",
      "wind:54\n",
      "smoke:1\n",
      "dust:0\n",
      "freezing:4\n",
      "clear:436\n",
      "cloud:1771\n"
     ]
    }
   ],
   "source": [
    "most_severe= corr_df[corr_df['Severity']==4]\n",
    "for condition in conditions:\n",
    "    count = most_severe['Severity'][most_severe['Weather_Condition'].str.contains(condition, case=False)].count()\n",
    "    print(f'{condition}:{count}')"
   ]
  },
  {
   "cell_type": "code",
   "execution_count": 123,
   "metadata": {},
   "outputs": [
    {
     "name": "stdout",
     "output_type": "stream",
     "text": [
      "snow:11\n",
      "rain:56\n",
      "fog:7\n",
      "wind:0\n",
      "smoke:1\n",
      "dust:0\n",
      "freezing:1\n",
      "clear:324\n",
      "cloud:303\n"
     ]
    }
   ],
   "source": [
    "least_severe= corr_df[corr_df['Severity']==1]\n",
    "for condition in conditions:\n",
    "    count = least_severe['Severity'][least_severe['Weather_Condition'].str.contains(condition, case=False)].count()\n",
    "    print(f'{condition}:{count}')"
   ]
  },
  {
   "cell_type": "code",
   "execution_count": 125,
   "metadata": {},
   "outputs": [
    {
     "name": "stdout",
     "output_type": "stream",
     "text": [
      "Traffic_Calming:0\n",
      "Traffic_Signal:169\n",
      "Roundabout:0\n",
      "Railway:12\n",
      "No_Exit:0\n",
      "Junction:279\n",
      "Give_Way:15\n",
      "Crossing:41\n",
      "Bump:0\n",
      "Stop:6\n"
     ]
    }
   ],
   "source": [
    "for traff in traffic:\n",
    "    count = most_severe['Severity'][most_severe[traff]==True].count()\n",
    "    print(f'{traff}:{count}')"
   ]
  },
  {
   "cell_type": "code",
   "execution_count": 126,
   "metadata": {},
   "outputs": [
    {
     "name": "stdout",
     "output_type": "stream",
     "text": [
      "Traffic_Calming:0\n",
      "Traffic_Signal:152\n",
      "Roundabout:0\n",
      "Railway:6\n",
      "No_Exit:3\n",
      "Junction:13\n",
      "Give_Way:1\n",
      "Crossing:81\n",
      "Bump:0\n",
      "Stop:28\n"
     ]
    }
   ],
   "source": [
    "for traff in traffic:\n",
    "    count = least_severe['Severity'][least_severe[traff]==True].count()\n",
    "    print(f'{traff}:{count}')"
   ]
  },
  {
   "cell_type": "code",
   "execution_count": 157,
   "metadata": {},
   "outputs": [
    {
     "data": {
      "image/png": "[encoded data removed]",
      "text/plain": [
       "<Figure size 720x288 with 1 Axes>"
      ]
     },
     "metadata": {},
     "output_type": "display_data"
    }
   ],
   "source": [
    "traffic_rates = [least_severe['Severity'][least_severe[t]==True].count()/corr_df['Severity'][corr_df[t]==True].count() for t in traffic]\n",
    "fig, ax = plt.subplots(figsize=(10,4))\n",
    "ax.bar(traffic, traffic_rates, color='pink', alpha=.7)\n",
    "plt.xticks(rotation=30)\n",
    "ax.set_xlabel('Traffic Signals')\n",
    "ax.set_ylabel('Accident Rate')\n",
    "ax.set_title('Low Severity Accident Rates for Differing Traffic Signal Devices', size=15)\n",
    "plt.savefig('../images/traffic_low.png')\n",
    "plt.tight_layout()"
   ]
  },
  {
   "cell_type": "code",
   "execution_count": 155,
   "metadata": {},
   "outputs": [
    {
     "data": {
      "image/png": "[encoded data removed]",
      "text/plain": [
       "<Figure size 720x288 with 1 Axes>"
      ]
     },
     "metadata": {},
     "output_type": "display_data"
    }
   ],
   "source": [
    "traffic_rates = [most_severe['Severity'][most_severe[t]==True].count()/corr_df['Severity'][corr_df[t]==True].count() for t in traffic]\n",
    "fig, ax = plt.subplots(figsize=(10,4))\n",
    "ax.bar(traffic, traffic_rates, color='r', alpha=.7)\n",
    "plt.xticks(rotation=30)\n",
    "ax.set_xlabel('Traffic Signals')\n",
    "ax.set_ylabel('Accident Rate')\n",
    "ax.set_title('High Severity Accident Rates for Differing Traffic Signal Devices', size=15)\n",
    "plt.savefig('../images/traffic_high.png')\n",
    "plt.tight_layout()"
   ]
  },
  {
   "cell_type": "code",
   "execution_count": 158,
   "metadata": {},
   "outputs": [
    {
     "data": {
      "image/png": "[encoded data removed]",
      "text/plain": [
       "<Figure size 720x288 with 1 Axes>"
      ]
     },
     "metadata": {},
     "output_type": "display_data"
    }
   ],
   "source": [
    "weather_rates = [least_severe['Severity'][least_severe['Weather_Condition'].str.contains(condition, case=False)].count()/corr_df['Severity'][corr_df['Weather_Condition'].str.contains(condition, case=False)].count() for condition in conditions]\n",
    "fig, ax = plt.subplots(figsize=(10,4))\n",
    "ax.bar(conditions, weather_rates, color=['lightblue', 'b', 'gray', 'lightgray','k','beige','c','y','w'], alpha=.7, edgecolor='pink')\n",
    "ax.set_xlabel('Weather Conditions', size=12)\n",
    "ax.set_ylabel('Accident Rate')\n",
    "ax.set_title('Low Severity Accident Rate for Differing Weather Conditions', size=15)\n",
    "plt.savefig('../images/cond_low.png')\n",
    "plt.tight_layout()"
   ]
  },
  {
   "cell_type": "code",
   "execution_count": 159,
   "metadata": {},
   "outputs": [
    {
     "data": {
      "image/png": "[encoded data removed]",
      "text/plain": [
       "<Figure size 720x288 with 1 Axes>"
      ]
     },
     "metadata": {},
     "output_type": "display_data"
    }
   ],
   "source": [
    "weather_rates = [most_severe['Severity'][most_severe['Weather_Condition'].str.contains(condition, case=False)].count()/corr_df['Severity'][corr_df['Weather_Condition'].str.contains(condition, case=False)].count() for condition in conditions]\n",
    "fig, ax = plt.subplots(figsize=(10,4))\n",
    "ax.bar(conditions, weather_rates, color=['lightblue', 'b', 'gray', 'lightgray','k','beige','c','y','w'], alpha=.7, edgecolor='r')\n",
    "ax.set_xlabel('Weather Conditions', size=12)\n",
    "ax.set_ylabel('Accident Rate')\n",
    "ax.set_title('High Severity Accident Rate for Differing Weather Conditions', size=15)\n",
    "plt.savefig('../images/cond_high.png')\n",
    "plt.tight_layout()"
   ]
  },
  {
   "cell_type": "code",
   "execution_count": null,
   "metadata": {},
   "outputs": [],
   "source": []
  }
 ],
 "metadata": {
  "kernelspec": {
   "display_name": "Python 3",
   "language": "python",
   "name": "python3"
  },
  "language_info": {
   "codemirror_mode": {
    "name": "ipython",
    "version": 3
   },
   "file_extension": ".py",
   "mimetype": "text/x-python",
   "name": "python",
   "nbconvert_exporter": "python",
   "pygments_lexer": "ipython3",
   "version": "3.7.4"
  }
 },
 "nbformat": 4,
 "nbformat_minor": 2
}
